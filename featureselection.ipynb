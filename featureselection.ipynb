{
  "nbformat": 4,
  "nbformat_minor": 0,
  "metadata": {
    "colab": {
      "provenance": [],
      "authorship_tag": "ABX9TyMvzuy8Bnzna+u0ARlyTpNX",
      "include_colab_link": true
    },
    "kernelspec": {
      "name": "python3",
      "display_name": "Python 3"
    },
    "language_info": {
      "name": "python"
    }
  },
  "cells": [
    {
      "cell_type": "markdown",
      "metadata": {
        "id": "view-in-github",
        "colab_type": "text"
      },
      "source": [
        "<a href=\"https://colab.research.google.com/github/karunaprakash062/Major_Project/blob/main/featureselection.ipynb\" target=\"_parent\"><img src=\"https://colab.research.google.com/assets/colab-badge.svg\" alt=\"Open In Colab\"/></a>"
      ]
    },
    {
      "cell_type": "code",
      "execution_count": 1,
      "metadata": {
        "colab": {
          "base_uri": "https://localhost:8080/"
        },
        "id": "1o5LGvdaiUfy",
        "outputId": "63794673-756a-46dc-eba4-65ee6e2c358c"
      },
      "outputs": [
        {
          "output_type": "stream",
          "name": "stdout",
          "text": [
            "Mounted at /content/drive\n"
          ]
        }
      ],
      "source": [
        "from google.colab import drive\n",
        "drive.mount('/content/drive')"
      ]
    },
    {
      "cell_type": "code",
      "source": [
        "import pandas as pd\n",
        "import numpy as np"
      ],
      "metadata": {
        "id": "vvhNLc-qik_i"
      },
      "execution_count": 2,
      "outputs": []
    },
    {
      "cell_type": "code",
      "source": [
        "data = pd.read_csv('/content/drive/MyDrive/NSL-KDD/NSL_KDD_Data.csv')"
      ],
      "metadata": {
        "id": "XPzob-2qiv6g"
      },
      "execution_count": 3,
      "outputs": []
    },
    {
      "cell_type": "code",
      "source": [
        "unique_train_classes = set(data['class'])"
      ],
      "metadata": {
        "id": "B5Je9EMZ8gwA"
      },
      "execution_count": 4,
      "outputs": []
    },
    {
      "cell_type": "code",
      "source": [
        "from sklearn.preprocessing import LabelEncoder\n",
        "encoder = LabelEncoder()\n",
        "data['service'] = encoder.fit_transform(data['service'])\n",
        "data['protocol_type'] = encoder.fit_transform(data['protocol_type'])\n",
        "data['flag'] = encoder.fit_transform(data['flag'])"
      ],
      "metadata": {
        "id": "ufJFsSprbt8o"
      },
      "execution_count": 5,
      "outputs": []
    },
    {
      "cell_type": "code",
      "source": [
        "removed_feature = data.pop('num_outbound_cmds')"
      ],
      "metadata": {
        "id": "6OZXeCU-fP6c"
      },
      "execution_count": 6,
      "outputs": []
    },
    {
      "cell_type": "code",
      "source": [
        "target = data.pop('class')"
      ],
      "metadata": {
        "id": "l07Xky32dMMA"
      },
      "execution_count": 7,
      "outputs": []
    },
    {
      "cell_type": "code",
      "source": [
        "target = encoder.fit_transform(target)"
      ],
      "metadata": {
        "id": "tcUszKUuy7_-"
      },
      "execution_count": 8,
      "outputs": []
    },
    {
      "cell_type": "code",
      "source": [
        "target = pd.Series(target)"
      ],
      "metadata": {
        "id": "brCEur30zQ69"
      },
      "execution_count": 9,
      "outputs": []
    },
    {
      "cell_type": "markdown",
      "source": [
        "Filter Methods for features selection"
      ],
      "metadata": {
        "id": "6Q4wEOCHm292"
      }
    },
    {
      "cell_type": "code",
      "source": [
        "from sklearn.feature_selection import SelectKBest\n",
        "from sklearn.feature_selection import chi2, f_classif, mutual_info_classif\n",
        "\n",
        "\n",
        "X, y = data, target\n",
        "feature_names = data.columns\n",
        "\n",
        "# Chi-square test\n",
        "chi2_selector = SelectKBest(chi2, k=10)\n",
        "X_chi2_selected = chi2_selector.fit_transform(X, y)\n",
        "selected_chi2_indices = chi2_selector.get_support(indices=True)\n",
        "selected_chi2_features = [feature_names[i] for i in selected_chi2_indices]\n",
        "\n",
        "# ANOVA F-value (f_classif)\n",
        "fvalue_selector = SelectKBest(f_classif, k=10)\n",
        "X_fvalue_selected = fvalue_selector.fit_transform(X, y)\n",
        "selected_fvalue_indices = fvalue_selector.get_support(indices=True)\n",
        "selected_fvalue_features = [feature_names[i] for i in selected_fvalue_indices]\n",
        "\n",
        "# Mutual Information\n",
        "mi_selector = SelectKBest(mutual_info_classif, k=10)\n",
        "X_mi_selected = mi_selector.fit_transform(X, y)\n",
        "selected_mi_indices = mi_selector.get_support(indices=True)\n",
        "selected_mi_features = [feature_names[i] for i in selected_mi_indices]\n",
        "\n",
        "print(\"Chi-square selected features:\", selected_chi2_features)\n",
        "print(\"ANOVA F-value selected features:\", selected_fvalue_features)\n",
        "print(\"Mutual Information selected features:\", selected_mi_features)"
      ],
      "metadata": {
        "colab": {
          "base_uri": "https://localhost:8080/"
        },
        "id": "MQyHm-wuf-rR",
        "outputId": "7ab98828-a500-4f3b-e7b6-9965c9213287"
      },
      "execution_count": 10,
      "outputs": [
        {
          "output_type": "stream",
          "name": "stdout",
          "text": [
            "Chi-square selected features: ['duration', 'service', 'src_bytes', 'dst_bytes', 'wrong_fragment', 'hot', 'count', 'srv_count', 'dst_host_count', 'dst_host_srv_count']\n",
            "ANOVA F-value selected features: ['flag', 'land', 'wrong_fragment', 'serror_rate', 'srv_serror_rate', 'same_srv_rate', 'dst_host_same_srv_rate', 'dst_host_srv_diff_host_rate', 'dst_host_serror_rate', 'dst_host_srv_serror_rate']\n",
            "Mutual Information selected features: ['service', 'flag', 'src_bytes', 'count', 'same_srv_rate', 'diff_srv_rate', 'dst_host_srv_count', 'dst_host_same_srv_rate', 'dst_host_diff_srv_rate', 'dst_host_serror_rate']\n"
          ]
        }
      ]
    },
    {
      "cell_type": "code",
      "source": [
        "# Convert the selected features lists to sets\n",
        "set_chi2 = set(selected_chi2_features)\n",
        "set_fvalue = set(selected_fvalue_features)\n",
        "set_mi = set(selected_mi_features)\n",
        "\n",
        "# Find common features between Chi-square and ANOVA F-value\n",
        "common_chi2_fvalue = set_chi2.intersection(set_fvalue)\n",
        "\n",
        "# Find common features between Chi-square and Mutual Information\n",
        "common_chi2_mi = set_chi2.intersection(set_mi)\n",
        "\n",
        "# Find common features between ANOVA F-value and Mutual Information\n",
        "common_fvalue_mi = set_fvalue.intersection(set_mi)\n",
        "\n",
        "# Find common features present in any two sets among the three\n",
        "common_any_two = common_chi2_fvalue.union(common_chi2_mi, common_fvalue_mi)\n",
        "\n",
        "print(\"Common features present in any two sets among the three:\", common_any_two)\n"
      ],
      "metadata": {
        "colab": {
          "base_uri": "https://localhost:8080/"
        },
        "id": "LfUXBVuWg692",
        "outputId": "d6b3109d-55ed-43c1-d533-9e052040d70b"
      },
      "execution_count": 11,
      "outputs": [
        {
          "output_type": "stream",
          "name": "stdout",
          "text": [
            "Common features present in any two sets among the three: {'dst_host_srv_count', 'wrong_fragment', 'flag', 'src_bytes', 'service', 'same_srv_rate', 'dst_host_same_srv_rate', 'dst_host_serror_rate', 'count'}\n"
          ]
        }
      ]
    },
    {
      "cell_type": "markdown",
      "source": [
        "Wrapper Methods for features selection"
      ],
      "metadata": {
        "id": "EGvR0NuKnAXJ"
      }
    },
    {
      "cell_type": "code",
      "source": [
        "from sklearn.model_selection import train_test_split\n",
        "from sklearn.ensemble import RandomForestClassifier\n",
        "from sklearn.feature_selection import RFE\n",
        "\n",
        "\n",
        "# Split data into training and testing sets\n",
        "X_train, X_test, y_train, y_test = train_test_split(X, y, test_size=0.2, random_state=42)\n",
        "\n",
        "# Initialize Random Forest classifier\n",
        "clf = RandomForestClassifier(random_state=42)\n",
        "\n",
        "# Initialize RFE selector\n",
        "rfe_selector = RFE(estimator=clf, n_features_to_select=10, step=1)\n",
        "\n",
        "# Fit RFE selector to training data\n",
        "rfe_selector.fit(X_train, y_train)\n",
        "\n",
        "# Get selected feature indices\n",
        "selected_indices = rfe_selector.support_\n",
        "\n",
        "# Get selected feature names\n",
        "selected_features = [feature_names[i] for i, selected in enumerate(selected_indices) if selected]\n",
        "\n",
        "print(\"Selected features using RFE:\", selected_features)"
      ],
      "metadata": {
        "colab": {
          "base_uri": "https://localhost:8080/"
        },
        "id": "8Xz_6ZHKoQGP",
        "outputId": "6ca6f779-3c67-4de5-f7be-05a652564d7b"
      },
      "execution_count": 12,
      "outputs": [
        {
          "output_type": "stream",
          "name": "stdout",
          "text": [
            "Selected features using RFE: ['protocol_type', 'flag', 'src_bytes', 'dst_bytes', 'count', 'same_srv_rate', 'diff_srv_rate', 'dst_host_diff_srv_rate', 'dst_host_serror_rate', ' d_level']\n"
          ]
        }
      ]
    },
    {
      "cell_type": "markdown",
      "source": [
        "Dimensionality Reduction"
      ],
      "metadata": {
        "id": "6hL5obp5uXBa"
      }
    },
    {
      "cell_type": "code",
      "source": [
        "from sklearn.preprocessing import StandardScaler\n",
        "from sklearn.decomposition import PCA\n",
        "from sklearn.discriminant_analysis import LinearDiscriminantAnalysis as LDA\n",
        "from sklearn.manifold import TSNE\n",
        "\n",
        "scaler = StandardScaler()\n",
        "X_scaled = scaler.fit_transform(X)\n",
        "\n",
        "X_train, X_test, y_train, y_test = train_test_split(X_scaled, y, test_size=0.2, random_state=42)\n",
        "\n",
        "# PCA\n",
        "pca = PCA(n_components=10)\n",
        "X_pca = pca.fit_transform(X_scaled)\n",
        "\n",
        "# LDA\n",
        "lda = LDA(n_components=10)\n",
        "X_lda = lda.fit_transform(X_scaled, y)\n",
        "\n",
        "\n",
        "print(\"PCA Reduced Dimension Data:\")\n",
        "print(X_pca[:5])\n",
        "print(\"\\nLDA Reduced Dimension Data:\")\n",
        "print(X_lda[:5])"
      ],
      "metadata": {
        "colab": {
          "base_uri": "https://localhost:8080/"
        },
        "id": "h5MbkpvtunL5",
        "outputId": "2b8c302f-6adb-40fa-bf4a-5ded26f4f14c"
      },
      "execution_count": 13,
      "outputs": [
        {
          "output_type": "stream",
          "name": "stdout",
          "text": [
            "PCA Reduced Dimension Data:\n",
            "[[-0.98733665 -0.11234776 -0.03161786 -0.1554983   0.21487399  0.23593905\n",
            "  -0.43658733  0.09837595  0.0689059   0.03954749]\n",
            " [ 0.64880745  0.88215687  0.1941114  -0.97405637  1.31600367  2.22649351\n",
            "  -3.39679643  0.85448652 -0.86926176  0.26141247]\n",
            " [ 3.62482172 -2.00677961  0.06426656 -0.2994913  -0.05018042 -0.47213191\n",
            "  -0.19064406 -0.03954534  0.25837693  0.09134273]\n",
            " [-2.65138475 -0.66838408 -0.10273376  0.52054588 -0.36706718 -1.04948625\n",
            "   0.1359334  -0.02593796  0.08346168 -0.14063829]\n",
            " [-2.44103577 -0.59066356 -0.17549714  1.36715049 -0.19769866 -0.21213396\n",
            "   0.15432648 -0.05113339 -0.04340128 -0.17092763]]\n",
            "\n",
            "LDA Reduced Dimension Data:\n",
            "[[ 1.27113407  2.94265533 -0.31996107 -0.58502933 -1.21649681 -0.44434829\n",
            "  -0.13085822  1.00659148  0.06396474  0.2585262 ]\n",
            " [ 1.25830168 -0.01387044  1.37340558  1.63144876  3.53858     1.72794255\n",
            "   2.21244954 -1.01030419 -0.88142249 -0.07404923]\n",
            " [ 1.47777194 -7.27495958  0.40337506  0.11007694  0.26049845 -0.48747358\n",
            "  -0.27143117 -0.19182628  0.01356266  0.05493823]\n",
            " [ 1.3225775   3.48844814 -1.68966605 -0.03377954 -0.27525678 -0.23520415\n",
            "  -0.66167955  0.53259856 -0.01001122  0.05478154]\n",
            " [ 1.34865472  3.46397934 -1.27264356 -0.18344866 -0.71179323 -0.16010912\n",
            "  -0.21745603 -0.09137244 -0.09492698 -0.109534  ]]\n"
          ]
        }
      ]
    },
    {
      "cell_type": "markdown",
      "source": [
        "Embedded Methods"
      ],
      "metadata": {
        "id": "WvQs3-bO1Zvd"
      }
    },
    {
      "cell_type": "code",
      "source": [
        "from sklearn.linear_model import Lasso, ElasticNet\n",
        "\n",
        "# 1. LASSO\n",
        "lasso = Lasso(alpha=0.1)\n",
        "lasso.fit(X_train, y_train)\n",
        "selected_features_lasso = [feature_names[i] for i in range(len(lasso.coef_)) if abs(lasso.coef_[i]) > 0]\n",
        "print(\"Selected features using LASSO:\", selected_features_lasso)\n",
        "\n",
        "# 2. Elastic Net\n",
        "elastic_net = ElasticNet(alpha=0.1, l1_ratio=0.5)\n",
        "elastic_net.fit(X_train, y_train)\n",
        "selected_features_elastic_net = [feature_names[i] for i in range(len(elastic_net.coef_)) if abs(elastic_net.coef_[i]) > 0]\n",
        "print(\"Selected features using Elastic Net:\", selected_features_elastic_net)"
      ],
      "metadata": {
        "colab": {
          "base_uri": "https://localhost:8080/"
        },
        "id": "Lwa7TNwEvqGr",
        "outputId": "e84ef27d-9c5b-4e59-a9a7-d683c89dbc18"
      },
      "execution_count": 14,
      "outputs": [
        {
          "output_type": "stream",
          "name": "stdout",
          "text": [
            "Selected features using LASSO: ['duration', 'wrong_fragment', 'logged_in', 'is_guest_login', 'srv_count', 'srv_serror_rate', 'same_srv_rate', 'diff_srv_rate', 'srv_diff_host_rate', 'dst_host_diff_srv_rate', 'dst_host_same_src_port_rate', 'dst_host_srv_diff_host_rate', 'dst_host_srv_serror_rate']\n",
            "Selected features using Elastic Net: ['duration', 'protocol_type', 'service', 'wrong_fragment', 'hot', 'num_failed_logins', 'logged_in', 'is_guest_login', 'count', 'srv_count', 'serror_rate', 'srv_serror_rate', 'same_srv_rate', 'diff_srv_rate', 'srv_diff_host_rate', 'dst_host_diff_srv_rate', 'dst_host_same_src_port_rate', 'dst_host_srv_diff_host_rate', 'dst_host_serror_rate', 'dst_host_srv_serror_rate']\n"
          ]
        }
      ]
    },
    {
      "cell_type": "code",
      "source": [
        "common_features = set(selected_features_lasso).intersection(selected_features_elastic_net)\n",
        "\n",
        "print(\"Common features selected by LASSO and Elastic Net:\", common_features)"
      ],
      "metadata": {
        "colab": {
          "base_uri": "https://localhost:8080/"
        },
        "id": "qspke7sZx_uf",
        "outputId": "9239416b-680a-445e-d0ab-86c9d2d2df2d"
      },
      "execution_count": 15,
      "outputs": [
        {
          "output_type": "stream",
          "name": "stdout",
          "text": [
            "Common features selected by LASSO and Elastic Net: {'dst_host_diff_srv_rate', 'wrong_fragment', 'dst_host_srv_serror_rate', 'dst_host_srv_diff_host_rate', 'srv_count', 'duration', 'same_srv_rate', 'dst_host_same_src_port_rate', 'is_guest_login', 'srv_diff_host_rate', 'diff_srv_rate', 'srv_serror_rate', 'logged_in'}\n"
          ]
        }
      ]
    },
    {
      "cell_type": "code",
      "source": [
        "filter_method_features = data[common_any_two]"
      ],
      "metadata": {
        "colab": {
          "base_uri": "https://localhost:8080/"
        },
        "id": "9RvBwrY7yyKE",
        "outputId": "0ab8eadb-b0e2-46a3-f902-ef2377a68e4d"
      },
      "execution_count": 16,
      "outputs": [
        {
          "output_type": "stream",
          "name": "stderr",
          "text": [
            "<ipython-input-16-216058bb75f9>:1: FutureWarning: Passing a set as an indexer is deprecated and will raise in a future version. Use a list instead.\n",
            "  filter_method_features = data[common_any_two]\n"
          ]
        }
      ]
    },
    {
      "cell_type": "code",
      "source": [
        "test_data = pd.read_csv('/content/drive/MyDrive/NSL-KDD/KDDTest+.csv')"
      ],
      "metadata": {
        "id": "0qwxeH655mI6"
      },
      "execution_count": 17,
      "outputs": []
    },
    {
      "cell_type": "code",
      "source": [
        "test_data = test_data[test_data['class'].isin(unique_train_classes)]"
      ],
      "metadata": {
        "id": "dlYSvt5m6I4u"
      },
      "execution_count": 18,
      "outputs": []
    },
    {
      "cell_type": "code",
      "source": [
        "test_data['service'] = encoder.fit_transform(test_data['service'])\n",
        "test_data['protocol_type'] = encoder.fit_transform(test_data['protocol_type'])\n",
        "test_data['flag'] = encoder.fit_transform(test_data['flag'])\n",
        "test_data['class'] = encoder.fit_transform(test_data['class'])"
      ],
      "metadata": {
        "id": "i2--gfL1-QYR"
      },
      "execution_count": 21,
      "outputs": []
    },
    {
      "cell_type": "code",
      "source": [
        "test_data"
      ],
      "metadata": {
        "colab": {
          "base_uri": "https://localhost:8080/",
          "height": 443
        },
        "id": "n1hEbF-d-ocx",
        "outputId": "8e26d9a4-db39-4218-a6a3-63ba29f1bd05"
      },
      "execution_count": 22,
      "outputs": [
        {
          "output_type": "execute_result",
          "data": {
            "text/plain": [
              "       duration  protocol_type  service  flag  src_bytes  dst_bytes  land  \\\n",
              "0             0              1       44     1          0          0     0   \n",
              "1             0              1       44     1          0          0     0   \n",
              "2             2              1       19     9      12983          0     0   \n",
              "5             0              1       22     9        267      14515     0   \n",
              "6             0              1       48     9       1022        387     0   \n",
              "...         ...            ...      ...   ...        ...        ...   ...   \n",
              "22538         0              0       14     9       1032          0     0   \n",
              "22539         0              1       48     9        794        333     0   \n",
              "22540         0              1       22     9        317        938     0   \n",
              "22541         0              1       22     9      54540       8314     0   \n",
              "22542         0              2       11     9         42         42     0   \n",
              "\n",
              "       wrong_fragment  urgent  hot  ...  dst_host_same_srv_rate  \\\n",
              "0                   0       0    0  ...                    0.04   \n",
              "1                   0       0    0  ...                    0.00   \n",
              "2                   0       0    0  ...                    0.61   \n",
              "5                   0       0    0  ...                    1.00   \n",
              "6                   0       0    0  ...                    0.11   \n",
              "...               ...     ...  ...  ...                     ...   \n",
              "22538               0       0    0  ...                    1.00   \n",
              "22539               0       0    0  ...                    0.72   \n",
              "22540               0       0    0  ...                    1.00   \n",
              "22541               0       0    2  ...                    1.00   \n",
              "22542               0       0    0  ...                    0.99   \n",
              "\n",
              "       dst_host_diff_srv_rate  dst_host_same_src_port_rate  \\\n",
              "0                        0.06                         0.00   \n",
              "1                        0.06                         0.00   \n",
              "2                        0.04                         0.61   \n",
              "5                        0.00                         0.01   \n",
              "6                        0.72                         0.00   \n",
              "...                       ...                          ...   \n",
              "22538                    0.00                         1.00   \n",
              "22539                    0.06                         0.01   \n",
              "22540                    0.00                         0.01   \n",
              "22541                    0.00                         0.00   \n",
              "22542                    0.01                         0.00   \n",
              "\n",
              "       dst_host_srv_diff_host_rate  dst_host_serror_rate  \\\n",
              "0                             0.00                  0.00   \n",
              "1                             0.00                  0.00   \n",
              "2                             0.02                  0.00   \n",
              "5                             0.03                  0.01   \n",
              "6                             0.00                  0.00   \n",
              "...                            ...                   ...   \n",
              "22538                         0.00                  0.00   \n",
              "22539                         0.01                  0.01   \n",
              "22540                         0.01                  0.01   \n",
              "22541                         0.00                  0.00   \n",
              "22542                         0.00                  0.00   \n",
              "\n",
              "       dst_host_srv_serror_rate  dst_host_rerror_rate  \\\n",
              "0                           0.0                  1.00   \n",
              "1                           0.0                  1.00   \n",
              "2                           0.0                  0.00   \n",
              "5                           0.0                  0.00   \n",
              "6                           0.0                  0.72   \n",
              "...                         ...                   ...   \n",
              "22538                       0.0                  0.00   \n",
              "22539                       0.0                  0.00   \n",
              "22540                       0.0                  0.00   \n",
              "22541                       0.0                  0.07   \n",
              "22542                       0.0                  0.00   \n",
              "\n",
              "       dst_host_srv_rerror_rate  class   d_level  \n",
              "0                          1.00      9        21  \n",
              "1                          1.00      9        21  \n",
              "2                          0.00     11        21  \n",
              "5                          0.00     11        21  \n",
              "6                          0.04     11        21  \n",
              "...                         ...    ...       ...  \n",
              "22538                      0.00     18        20  \n",
              "22539                      0.00     11        21  \n",
              "22540                      0.00     11        21  \n",
              "22541                      0.07      0        15  \n",
              "22542                      0.00     11        21  \n",
              "\n",
              "[18794 rows x 43 columns]"
            ],
            "text/html": [
              "\n",
              "  <div id=\"df-4355f9da-040d-46fd-9063-085a132f6c08\" class=\"colab-df-container\">\n",
              "    <div>\n",
              "<style scoped>\n",
              "    .dataframe tbody tr th:only-of-type {\n",
              "        vertical-align: middle;\n",
              "    }\n",
              "\n",
              "    .dataframe tbody tr th {\n",
              "        vertical-align: top;\n",
              "    }\n",
              "\n",
              "    .dataframe thead th {\n",
              "        text-align: right;\n",
              "    }\n",
              "</style>\n",
              "<table border=\"1\" class=\"dataframe\">\n",
              "  <thead>\n",
              "    <tr style=\"text-align: right;\">\n",
              "      <th></th>\n",
              "      <th>duration</th>\n",
              "      <th>protocol_type</th>\n",
              "      <th>service</th>\n",
              "      <th>flag</th>\n",
              "      <th>src_bytes</th>\n",
              "      <th>dst_bytes</th>\n",
              "      <th>land</th>\n",
              "      <th>wrong_fragment</th>\n",
              "      <th>urgent</th>\n",
              "      <th>hot</th>\n",
              "      <th>...</th>\n",
              "      <th>dst_host_same_srv_rate</th>\n",
              "      <th>dst_host_diff_srv_rate</th>\n",
              "      <th>dst_host_same_src_port_rate</th>\n",
              "      <th>dst_host_srv_diff_host_rate</th>\n",
              "      <th>dst_host_serror_rate</th>\n",
              "      <th>dst_host_srv_serror_rate</th>\n",
              "      <th>dst_host_rerror_rate</th>\n",
              "      <th>dst_host_srv_rerror_rate</th>\n",
              "      <th>class</th>\n",
              "      <th>d_level</th>\n",
              "    </tr>\n",
              "  </thead>\n",
              "  <tbody>\n",
              "    <tr>\n",
              "      <th>0</th>\n",
              "      <td>0</td>\n",
              "      <td>1</td>\n",
              "      <td>44</td>\n",
              "      <td>1</td>\n",
              "      <td>0</td>\n",
              "      <td>0</td>\n",
              "      <td>0</td>\n",
              "      <td>0</td>\n",
              "      <td>0</td>\n",
              "      <td>0</td>\n",
              "      <td>...</td>\n",
              "      <td>0.04</td>\n",
              "      <td>0.06</td>\n",
              "      <td>0.00</td>\n",
              "      <td>0.00</td>\n",
              "      <td>0.00</td>\n",
              "      <td>0.0</td>\n",
              "      <td>1.00</td>\n",
              "      <td>1.00</td>\n",
              "      <td>9</td>\n",
              "      <td>21</td>\n",
              "    </tr>\n",
              "    <tr>\n",
              "      <th>1</th>\n",
              "      <td>0</td>\n",
              "      <td>1</td>\n",
              "      <td>44</td>\n",
              "      <td>1</td>\n",
              "      <td>0</td>\n",
              "      <td>0</td>\n",
              "      <td>0</td>\n",
              "      <td>0</td>\n",
              "      <td>0</td>\n",
              "      <td>0</td>\n",
              "      <td>...</td>\n",
              "      <td>0.00</td>\n",
              "      <td>0.06</td>\n",
              "      <td>0.00</td>\n",
              "      <td>0.00</td>\n",
              "      <td>0.00</td>\n",
              "      <td>0.0</td>\n",
              "      <td>1.00</td>\n",
              "      <td>1.00</td>\n",
              "      <td>9</td>\n",
              "      <td>21</td>\n",
              "    </tr>\n",
              "    <tr>\n",
              "      <th>2</th>\n",
              "      <td>2</td>\n",
              "      <td>1</td>\n",
              "      <td>19</td>\n",
              "      <td>9</td>\n",
              "      <td>12983</td>\n",
              "      <td>0</td>\n",
              "      <td>0</td>\n",
              "      <td>0</td>\n",
              "      <td>0</td>\n",
              "      <td>0</td>\n",
              "      <td>...</td>\n",
              "      <td>0.61</td>\n",
              "      <td>0.04</td>\n",
              "      <td>0.61</td>\n",
              "      <td>0.02</td>\n",
              "      <td>0.00</td>\n",
              "      <td>0.0</td>\n",
              "      <td>0.00</td>\n",
              "      <td>0.00</td>\n",
              "      <td>11</td>\n",
              "      <td>21</td>\n",
              "    </tr>\n",
              "    <tr>\n",
              "      <th>5</th>\n",
              "      <td>0</td>\n",
              "      <td>1</td>\n",
              "      <td>22</td>\n",
              "      <td>9</td>\n",
              "      <td>267</td>\n",
              "      <td>14515</td>\n",
              "      <td>0</td>\n",
              "      <td>0</td>\n",
              "      <td>0</td>\n",
              "      <td>0</td>\n",
              "      <td>...</td>\n",
              "      <td>1.00</td>\n",
              "      <td>0.00</td>\n",
              "      <td>0.01</td>\n",
              "      <td>0.03</td>\n",
              "      <td>0.01</td>\n",
              "      <td>0.0</td>\n",
              "      <td>0.00</td>\n",
              "      <td>0.00</td>\n",
              "      <td>11</td>\n",
              "      <td>21</td>\n",
              "    </tr>\n",
              "    <tr>\n",
              "      <th>6</th>\n",
              "      <td>0</td>\n",
              "      <td>1</td>\n",
              "      <td>48</td>\n",
              "      <td>9</td>\n",
              "      <td>1022</td>\n",
              "      <td>387</td>\n",
              "      <td>0</td>\n",
              "      <td>0</td>\n",
              "      <td>0</td>\n",
              "      <td>0</td>\n",
              "      <td>...</td>\n",
              "      <td>0.11</td>\n",
              "      <td>0.72</td>\n",
              "      <td>0.00</td>\n",
              "      <td>0.00</td>\n",
              "      <td>0.00</td>\n",
              "      <td>0.0</td>\n",
              "      <td>0.72</td>\n",
              "      <td>0.04</td>\n",
              "      <td>11</td>\n",
              "      <td>21</td>\n",
              "    </tr>\n",
              "    <tr>\n",
              "      <th>...</th>\n",
              "      <td>...</td>\n",
              "      <td>...</td>\n",
              "      <td>...</td>\n",
              "      <td>...</td>\n",
              "      <td>...</td>\n",
              "      <td>...</td>\n",
              "      <td>...</td>\n",
              "      <td>...</td>\n",
              "      <td>...</td>\n",
              "      <td>...</td>\n",
              "      <td>...</td>\n",
              "      <td>...</td>\n",
              "      <td>...</td>\n",
              "      <td>...</td>\n",
              "      <td>...</td>\n",
              "      <td>...</td>\n",
              "      <td>...</td>\n",
              "      <td>...</td>\n",
              "      <td>...</td>\n",
              "      <td>...</td>\n",
              "      <td>...</td>\n",
              "    </tr>\n",
              "    <tr>\n",
              "      <th>22538</th>\n",
              "      <td>0</td>\n",
              "      <td>0</td>\n",
              "      <td>14</td>\n",
              "      <td>9</td>\n",
              "      <td>1032</td>\n",
              "      <td>0</td>\n",
              "      <td>0</td>\n",
              "      <td>0</td>\n",
              "      <td>0</td>\n",
              "      <td>0</td>\n",
              "      <td>...</td>\n",
              "      <td>1.00</td>\n",
              "      <td>0.00</td>\n",
              "      <td>1.00</td>\n",
              "      <td>0.00</td>\n",
              "      <td>0.00</td>\n",
              "      <td>0.0</td>\n",
              "      <td>0.00</td>\n",
              "      <td>0.00</td>\n",
              "      <td>18</td>\n",
              "      <td>20</td>\n",
              "    </tr>\n",
              "    <tr>\n",
              "      <th>22539</th>\n",
              "      <td>0</td>\n",
              "      <td>1</td>\n",
              "      <td>48</td>\n",
              "      <td>9</td>\n",
              "      <td>794</td>\n",
              "      <td>333</td>\n",
              "      <td>0</td>\n",
              "      <td>0</td>\n",
              "      <td>0</td>\n",
              "      <td>0</td>\n",
              "      <td>...</td>\n",
              "      <td>0.72</td>\n",
              "      <td>0.06</td>\n",
              "      <td>0.01</td>\n",
              "      <td>0.01</td>\n",
              "      <td>0.01</td>\n",
              "      <td>0.0</td>\n",
              "      <td>0.00</td>\n",
              "      <td>0.00</td>\n",
              "      <td>11</td>\n",
              "      <td>21</td>\n",
              "    </tr>\n",
              "    <tr>\n",
              "      <th>22540</th>\n",
              "      <td>0</td>\n",
              "      <td>1</td>\n",
              "      <td>22</td>\n",
              "      <td>9</td>\n",
              "      <td>317</td>\n",
              "      <td>938</td>\n",
              "      <td>0</td>\n",
              "      <td>0</td>\n",
              "      <td>0</td>\n",
              "      <td>0</td>\n",
              "      <td>...</td>\n",
              "      <td>1.00</td>\n",
              "      <td>0.00</td>\n",
              "      <td>0.01</td>\n",
              "      <td>0.01</td>\n",
              "      <td>0.01</td>\n",
              "      <td>0.0</td>\n",
              "      <td>0.00</td>\n",
              "      <td>0.00</td>\n",
              "      <td>11</td>\n",
              "      <td>21</td>\n",
              "    </tr>\n",
              "    <tr>\n",
              "      <th>22541</th>\n",
              "      <td>0</td>\n",
              "      <td>1</td>\n",
              "      <td>22</td>\n",
              "      <td>9</td>\n",
              "      <td>54540</td>\n",
              "      <td>8314</td>\n",
              "      <td>0</td>\n",
              "      <td>0</td>\n",
              "      <td>0</td>\n",
              "      <td>2</td>\n",
              "      <td>...</td>\n",
              "      <td>1.00</td>\n",
              "      <td>0.00</td>\n",
              "      <td>0.00</td>\n",
              "      <td>0.00</td>\n",
              "      <td>0.00</td>\n",
              "      <td>0.0</td>\n",
              "      <td>0.07</td>\n",
              "      <td>0.07</td>\n",
              "      <td>0</td>\n",
              "      <td>15</td>\n",
              "    </tr>\n",
              "    <tr>\n",
              "      <th>22542</th>\n",
              "      <td>0</td>\n",
              "      <td>2</td>\n",
              "      <td>11</td>\n",
              "      <td>9</td>\n",
              "      <td>42</td>\n",
              "      <td>42</td>\n",
              "      <td>0</td>\n",
              "      <td>0</td>\n",
              "      <td>0</td>\n",
              "      <td>0</td>\n",
              "      <td>...</td>\n",
              "      <td>0.99</td>\n",
              "      <td>0.01</td>\n",
              "      <td>0.00</td>\n",
              "      <td>0.00</td>\n",
              "      <td>0.00</td>\n",
              "      <td>0.0</td>\n",
              "      <td>0.00</td>\n",
              "      <td>0.00</td>\n",
              "      <td>11</td>\n",
              "      <td>21</td>\n",
              "    </tr>\n",
              "  </tbody>\n",
              "</table>\n",
              "<p>18794 rows × 43 columns</p>\n",
              "</div>\n",
              "    <div class=\"colab-df-buttons\">\n",
              "\n",
              "  <div class=\"colab-df-container\">\n",
              "    <button class=\"colab-df-convert\" onclick=\"convertToInteractive('df-4355f9da-040d-46fd-9063-085a132f6c08')\"\n",
              "            title=\"Convert this dataframe to an interactive table.\"\n",
              "            style=\"display:none;\">\n",
              "\n",
              "  <svg xmlns=\"http://www.w3.org/2000/svg\" height=\"24px\" viewBox=\"0 -960 960 960\">\n",
              "    <path d=\"M120-120v-720h720v720H120Zm60-500h600v-160H180v160Zm220 220h160v-160H400v160Zm0 220h160v-160H400v160ZM180-400h160v-160H180v160Zm440 0h160v-160H620v160ZM180-180h160v-160H180v160Zm440 0h160v-160H620v160Z\"/>\n",
              "  </svg>\n",
              "    </button>\n",
              "\n",
              "  <style>\n",
              "    .colab-df-container {\n",
              "      display:flex;\n",
              "      gap: 12px;\n",
              "    }\n",
              "\n",
              "    .colab-df-convert {\n",
              "      background-color: #E8F0FE;\n",
              "      border: none;\n",
              "      border-radius: 50%;\n",
              "      cursor: pointer;\n",
              "      display: none;\n",
              "      fill: #1967D2;\n",
              "      height: 32px;\n",
              "      padding: 0 0 0 0;\n",
              "      width: 32px;\n",
              "    }\n",
              "\n",
              "    .colab-df-convert:hover {\n",
              "      background-color: #E2EBFA;\n",
              "      box-shadow: 0px 1px 2px rgba(60, 64, 67, 0.3), 0px 1px 3px 1px rgba(60, 64, 67, 0.15);\n",
              "      fill: #174EA6;\n",
              "    }\n",
              "\n",
              "    .colab-df-buttons div {\n",
              "      margin-bottom: 4px;\n",
              "    }\n",
              "\n",
              "    [theme=dark] .colab-df-convert {\n",
              "      background-color: #3B4455;\n",
              "      fill: #D2E3FC;\n",
              "    }\n",
              "\n",
              "    [theme=dark] .colab-df-convert:hover {\n",
              "      background-color: #434B5C;\n",
              "      box-shadow: 0px 1px 3px 1px rgba(0, 0, 0, 0.15);\n",
              "      filter: drop-shadow(0px 1px 2px rgba(0, 0, 0, 0.3));\n",
              "      fill: #FFFFFF;\n",
              "    }\n",
              "  </style>\n",
              "\n",
              "    <script>\n",
              "      const buttonEl =\n",
              "        document.querySelector('#df-4355f9da-040d-46fd-9063-085a132f6c08 button.colab-df-convert');\n",
              "      buttonEl.style.display =\n",
              "        google.colab.kernel.accessAllowed ? 'block' : 'none';\n",
              "\n",
              "      async function convertToInteractive(key) {\n",
              "        const element = document.querySelector('#df-4355f9da-040d-46fd-9063-085a132f6c08');\n",
              "        const dataTable =\n",
              "          await google.colab.kernel.invokeFunction('convertToInteractive',\n",
              "                                                    [key], {});\n",
              "        if (!dataTable) return;\n",
              "\n",
              "        const docLinkHtml = 'Like what you see? Visit the ' +\n",
              "          '<a target=\"_blank\" href=https://colab.research.google.com/notebooks/data_table.ipynb>data table notebook</a>'\n",
              "          + ' to learn more about interactive tables.';\n",
              "        element.innerHTML = '';\n",
              "        dataTable['output_type'] = 'display_data';\n",
              "        await google.colab.output.renderOutput(dataTable, element);\n",
              "        const docLink = document.createElement('div');\n",
              "        docLink.innerHTML = docLinkHtml;\n",
              "        element.appendChild(docLink);\n",
              "      }\n",
              "    </script>\n",
              "  </div>\n",
              "\n",
              "\n",
              "<div id=\"df-1d53dbf2-c7cb-4c4c-b5ed-16679a4a81c8\">\n",
              "  <button class=\"colab-df-quickchart\" onclick=\"quickchart('df-1d53dbf2-c7cb-4c4c-b5ed-16679a4a81c8')\"\n",
              "            title=\"Suggest charts\"\n",
              "            style=\"display:none;\">\n",
              "\n",
              "<svg xmlns=\"http://www.w3.org/2000/svg\" height=\"24px\"viewBox=\"0 0 24 24\"\n",
              "     width=\"24px\">\n",
              "    <g>\n",
              "        <path d=\"M19 3H5c-1.1 0-2 .9-2 2v14c0 1.1.9 2 2 2h14c1.1 0 2-.9 2-2V5c0-1.1-.9-2-2-2zM9 17H7v-7h2v7zm4 0h-2V7h2v10zm4 0h-2v-4h2v4z\"/>\n",
              "    </g>\n",
              "</svg>\n",
              "  </button>\n",
              "\n",
              "<style>\n",
              "  .colab-df-quickchart {\n",
              "      --bg-color: #E8F0FE;\n",
              "      --fill-color: #1967D2;\n",
              "      --hover-bg-color: #E2EBFA;\n",
              "      --hover-fill-color: #174EA6;\n",
              "      --disabled-fill-color: #AAA;\n",
              "      --disabled-bg-color: #DDD;\n",
              "  }\n",
              "\n",
              "  [theme=dark] .colab-df-quickchart {\n",
              "      --bg-color: #3B4455;\n",
              "      --fill-color: #D2E3FC;\n",
              "      --hover-bg-color: #434B5C;\n",
              "      --hover-fill-color: #FFFFFF;\n",
              "      --disabled-bg-color: #3B4455;\n",
              "      --disabled-fill-color: #666;\n",
              "  }\n",
              "\n",
              "  .colab-df-quickchart {\n",
              "    background-color: var(--bg-color);\n",
              "    border: none;\n",
              "    border-radius: 50%;\n",
              "    cursor: pointer;\n",
              "    display: none;\n",
              "    fill: var(--fill-color);\n",
              "    height: 32px;\n",
              "    padding: 0;\n",
              "    width: 32px;\n",
              "  }\n",
              "\n",
              "  .colab-df-quickchart:hover {\n",
              "    background-color: var(--hover-bg-color);\n",
              "    box-shadow: 0 1px 2px rgba(60, 64, 67, 0.3), 0 1px 3px 1px rgba(60, 64, 67, 0.15);\n",
              "    fill: var(--button-hover-fill-color);\n",
              "  }\n",
              "\n",
              "  .colab-df-quickchart-complete:disabled,\n",
              "  .colab-df-quickchart-complete:disabled:hover {\n",
              "    background-color: var(--disabled-bg-color);\n",
              "    fill: var(--disabled-fill-color);\n",
              "    box-shadow: none;\n",
              "  }\n",
              "\n",
              "  .colab-df-spinner {\n",
              "    border: 2px solid var(--fill-color);\n",
              "    border-color: transparent;\n",
              "    border-bottom-color: var(--fill-color);\n",
              "    animation:\n",
              "      spin 1s steps(1) infinite;\n",
              "  }\n",
              "\n",
              "  @keyframes spin {\n",
              "    0% {\n",
              "      border-color: transparent;\n",
              "      border-bottom-color: var(--fill-color);\n",
              "      border-left-color: var(--fill-color);\n",
              "    }\n",
              "    20% {\n",
              "      border-color: transparent;\n",
              "      border-left-color: var(--fill-color);\n",
              "      border-top-color: var(--fill-color);\n",
              "    }\n",
              "    30% {\n",
              "      border-color: transparent;\n",
              "      border-left-color: var(--fill-color);\n",
              "      border-top-color: var(--fill-color);\n",
              "      border-right-color: var(--fill-color);\n",
              "    }\n",
              "    40% {\n",
              "      border-color: transparent;\n",
              "      border-right-color: var(--fill-color);\n",
              "      border-top-color: var(--fill-color);\n",
              "    }\n",
              "    60% {\n",
              "      border-color: transparent;\n",
              "      border-right-color: var(--fill-color);\n",
              "    }\n",
              "    80% {\n",
              "      border-color: transparent;\n",
              "      border-right-color: var(--fill-color);\n",
              "      border-bottom-color: var(--fill-color);\n",
              "    }\n",
              "    90% {\n",
              "      border-color: transparent;\n",
              "      border-bottom-color: var(--fill-color);\n",
              "    }\n",
              "  }\n",
              "</style>\n",
              "\n",
              "  <script>\n",
              "    async function quickchart(key) {\n",
              "      const quickchartButtonEl =\n",
              "        document.querySelector('#' + key + ' button');\n",
              "      quickchartButtonEl.disabled = true;  // To prevent multiple clicks.\n",
              "      quickchartButtonEl.classList.add('colab-df-spinner');\n",
              "      try {\n",
              "        const charts = await google.colab.kernel.invokeFunction(\n",
              "            'suggestCharts', [key], {});\n",
              "      } catch (error) {\n",
              "        console.error('Error during call to suggestCharts:', error);\n",
              "      }\n",
              "      quickchartButtonEl.classList.remove('colab-df-spinner');\n",
              "      quickchartButtonEl.classList.add('colab-df-quickchart-complete');\n",
              "    }\n",
              "    (() => {\n",
              "      let quickchartButtonEl =\n",
              "        document.querySelector('#df-1d53dbf2-c7cb-4c4c-b5ed-16679a4a81c8 button');\n",
              "      quickchartButtonEl.style.display =\n",
              "        google.colab.kernel.accessAllowed ? 'block' : 'none';\n",
              "    })();\n",
              "  </script>\n",
              "</div>\n",
              "\n",
              "  <div id=\"id_d9a2ca2a-debd-42c3-9dd1-ae073704eab0\">\n",
              "    <style>\n",
              "      .colab-df-generate {\n",
              "        background-color: #E8F0FE;\n",
              "        border: none;\n",
              "        border-radius: 50%;\n",
              "        cursor: pointer;\n",
              "        display: none;\n",
              "        fill: #1967D2;\n",
              "        height: 32px;\n",
              "        padding: 0 0 0 0;\n",
              "        width: 32px;\n",
              "      }\n",
              "\n",
              "      .colab-df-generate:hover {\n",
              "        background-color: #E2EBFA;\n",
              "        box-shadow: 0px 1px 2px rgba(60, 64, 67, 0.3), 0px 1px 3px 1px rgba(60, 64, 67, 0.15);\n",
              "        fill: #174EA6;\n",
              "      }\n",
              "\n",
              "      [theme=dark] .colab-df-generate {\n",
              "        background-color: #3B4455;\n",
              "        fill: #D2E3FC;\n",
              "      }\n",
              "\n",
              "      [theme=dark] .colab-df-generate:hover {\n",
              "        background-color: #434B5C;\n",
              "        box-shadow: 0px 1px 3px 1px rgba(0, 0, 0, 0.15);\n",
              "        filter: drop-shadow(0px 1px 2px rgba(0, 0, 0, 0.3));\n",
              "        fill: #FFFFFF;\n",
              "      }\n",
              "    </style>\n",
              "    <button class=\"colab-df-generate\" onclick=\"generateWithVariable('test_data')\"\n",
              "            title=\"Generate code using this dataframe.\"\n",
              "            style=\"display:none;\">\n",
              "\n",
              "  <svg xmlns=\"http://www.w3.org/2000/svg\" height=\"24px\"viewBox=\"0 0 24 24\"\n",
              "       width=\"24px\">\n",
              "    <path d=\"M7,19H8.4L18.45,9,17,7.55,7,17.6ZM5,21V16.75L18.45,3.32a2,2,0,0,1,2.83,0l1.4,1.43a1.91,1.91,0,0,1,.58,1.4,1.91,1.91,0,0,1-.58,1.4L9.25,21ZM18.45,9,17,7.55Zm-12,3A5.31,5.31,0,0,0,4.9,8.1,5.31,5.31,0,0,0,1,6.5,5.31,5.31,0,0,0,4.9,4.9,5.31,5.31,0,0,0,6.5,1,5.31,5.31,0,0,0,8.1,4.9,5.31,5.31,0,0,0,12,6.5,5.46,5.46,0,0,0,6.5,12Z\"/>\n",
              "  </svg>\n",
              "    </button>\n",
              "    <script>\n",
              "      (() => {\n",
              "      const buttonEl =\n",
              "        document.querySelector('#id_d9a2ca2a-debd-42c3-9dd1-ae073704eab0 button.colab-df-generate');\n",
              "      buttonEl.style.display =\n",
              "        google.colab.kernel.accessAllowed ? 'block' : 'none';\n",
              "\n",
              "      buttonEl.onclick = () => {\n",
              "        google.colab.notebook.generateWithVariable('test_data');\n",
              "      }\n",
              "      })();\n",
              "    </script>\n",
              "  </div>\n",
              "\n",
              "    </div>\n",
              "  </div>\n"
            ],
            "application/vnd.google.colaboratory.intrinsic+json": {
              "type": "dataframe",
              "variable_name": "test_data"
            }
          },
          "metadata": {},
          "execution_count": 22
        }
      ]
    },
    {
      "cell_type": "code",
      "source": [],
      "metadata": {
        "id": "e3EanblC-puT"
      },
      "execution_count": null,
      "outputs": []
    }
  ]
}