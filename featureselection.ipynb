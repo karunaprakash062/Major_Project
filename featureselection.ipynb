{
  "nbformat": 4,
  "nbformat_minor": 0,
  "metadata": {
    "colab": {
      "provenance": [],
      "authorship_tag": "ABX9TyMMr2TSqN8008xsdpfr7guF",
      "include_colab_link": true
    },
    "kernelspec": {
      "name": "python3",
      "display_name": "Python 3"
    },
    "language_info": {
      "name": "python"
    }
  },
  "cells": [
    {
      "cell_type": "markdown",
      "metadata": {
        "id": "view-in-github",
        "colab_type": "text"
      },
      "source": [
        "<a href=\"https://colab.research.google.com/github/karunaprakash062/Major_Project/blob/main/featureselection.ipynb\" target=\"_parent\"><img src=\"https://colab.research.google.com/assets/colab-badge.svg\" alt=\"Open In Colab\"/></a>"
      ]
    },
    {
      "cell_type": "code",
      "execution_count": 1,
      "metadata": {
        "colab": {
          "base_uri": "https://localhost:8080/"
        },
        "id": "1o5LGvdaiUfy",
        "outputId": "0c83abf5-8e35-41bc-afa5-8f05f95bb808"
      },
      "outputs": [
        {
          "output_type": "stream",
          "name": "stdout",
          "text": [
            "Mounted at /content/drive\n"
          ]
        }
      ],
      "source": [
        "from google.colab import drive\n",
        "drive.mount('/content/drive')"
      ]
    },
    {
      "cell_type": "code",
      "source": [
        "import pandas as pd\n",
        "import numpy as np\n",
        "import matplotlib.pyplot as plt"
      ],
      "metadata": {
        "id": "vvhNLc-qik_i"
      },
      "execution_count": 2,
      "outputs": []
    },
    {
      "cell_type": "code",
      "source": [
        "data = pd.read_csv('/content/drive/MyDrive/NSL-KDD/NSL_KDD_Data.csv')"
      ],
      "metadata": {
        "id": "XPzob-2qiv6g"
      },
      "execution_count": 3,
      "outputs": []
    },
    {
      "cell_type": "code",
      "source": [
        "from sklearn.preprocessing import LabelEncoder\n",
        "encoder = LabelEncoder()\n",
        "data['service'] = encoder.fit_transform(data['service'])\n",
        "data['protocol_type'] = encoder.fit_transform(data['protocol_type'])\n",
        "data['flag'] = encoder.fit_transform(data['flag'])"
      ],
      "metadata": {
        "id": "ufJFsSprbt8o"
      },
      "execution_count": 4,
      "outputs": []
    },
    {
      "cell_type": "code",
      "source": [
        "removed_feature = data.pop('num_outbound_cmds')"
      ],
      "metadata": {
        "id": "6OZXeCU-fP6c"
      },
      "execution_count": 5,
      "outputs": []
    },
    {
      "cell_type": "code",
      "source": [
        "target = data.pop('class')"
      ],
      "metadata": {
        "id": "l07Xky32dMMA"
      },
      "execution_count": 6,
      "outputs": []
    },
    {
      "cell_type": "markdown",
      "source": [
        "Filter Methods for features selection"
      ],
      "metadata": {
        "id": "6Q4wEOCHm292"
      }
    },
    {
      "cell_type": "code",
      "source": [
        "from sklearn.feature_selection import SelectKBest\n",
        "from sklearn.feature_selection import chi2, f_classif, mutual_info_classif\n",
        "\n",
        "\n",
        "X, y = data, target\n",
        "feature_names = data.columns\n",
        "\n",
        "# Chi-square test\n",
        "chi2_selector = SelectKBest(chi2, k=10)\n",
        "X_chi2_selected = chi2_selector.fit_transform(X, y)\n",
        "selected_chi2_indices = chi2_selector.get_support(indices=True)\n",
        "selected_chi2_features = [feature_names[i] for i in selected_chi2_indices]\n",
        "\n",
        "# ANOVA F-value (f_classif)\n",
        "fvalue_selector = SelectKBest(f_classif, k=10)\n",
        "X_fvalue_selected = fvalue_selector.fit_transform(X, y)\n",
        "selected_fvalue_indices = fvalue_selector.get_support(indices=True)\n",
        "selected_fvalue_features = [feature_names[i] for i in selected_fvalue_indices]\n",
        "\n",
        "# Mutual Information\n",
        "mi_selector = SelectKBest(mutual_info_classif, k=10)\n",
        "X_mi_selected = mi_selector.fit_transform(X, y)\n",
        "selected_mi_indices = mi_selector.get_support(indices=True)\n",
        "selected_mi_features = [feature_names[i] for i in selected_mi_indices]\n",
        "\n",
        "print(\"Chi-square selected features:\", selected_chi2_features)\n",
        "print(\"ANOVA F-value selected features:\", selected_fvalue_features)\n",
        "print(\"Mutual Information selected features:\", selected_mi_features)"
      ],
      "metadata": {
        "colab": {
          "base_uri": "https://localhost:8080/"
        },
        "id": "MQyHm-wuf-rR",
        "outputId": "75159057-1ce2-454d-cbb1-13414dedd532"
      },
      "execution_count": 7,
      "outputs": [
        {
          "output_type": "stream",
          "name": "stdout",
          "text": [
            "Chi-square selected features: ['duration', 'service', 'src_bytes', 'dst_bytes', 'wrong_fragment', 'hot', 'count', 'srv_count', 'dst_host_count', 'dst_host_srv_count']\n",
            "ANOVA F-value selected features: ['flag', 'land', 'wrong_fragment', 'serror_rate', 'srv_serror_rate', 'same_srv_rate', 'dst_host_same_srv_rate', 'dst_host_srv_diff_host_rate', 'dst_host_serror_rate', 'dst_host_srv_serror_rate']\n",
            "Mutual Information selected features: ['service', 'flag', 'src_bytes', 'dst_bytes', 'count', 'same_srv_rate', 'diff_srv_rate', 'dst_host_srv_count', 'dst_host_same_srv_rate', 'dst_host_diff_srv_rate']\n"
          ]
        }
      ]
    },
    {
      "cell_type": "code",
      "source": [
        "# Convert the selected features lists to sets\n",
        "set_chi2 = set(selected_chi2_features)\n",
        "set_fvalue = set(selected_fvalue_features)\n",
        "set_mi = set(selected_mi_features)\n",
        "\n",
        "# Find common features between Chi-square and ANOVA F-value\n",
        "common_chi2_fvalue = set_chi2.intersection(set_fvalue)\n",
        "\n",
        "# Find common features between Chi-square and Mutual Information\n",
        "common_chi2_mi = set_chi2.intersection(set_mi)\n",
        "\n",
        "# Find common features between ANOVA F-value and Mutual Information\n",
        "common_fvalue_mi = set_fvalue.intersection(set_mi)\n",
        "\n",
        "# Find common features present in any two sets among the three\n",
        "common_any_two = common_chi2_fvalue.union(common_chi2_mi, common_fvalue_mi)\n",
        "\n",
        "print(\"Common features present in any two sets among the three:\", common_any_two)\n"
      ],
      "metadata": {
        "colab": {
          "base_uri": "https://localhost:8080/"
        },
        "id": "LfUXBVuWg692",
        "outputId": "05e0a906-7d60-4858-c310-e5c4b65d580b"
      },
      "execution_count": 8,
      "outputs": [
        {
          "output_type": "stream",
          "name": "stdout",
          "text": [
            "Common features present in any two sets among the three: {'same_srv_rate', 'dst_host_srv_count', 'wrong_fragment', 'dst_host_same_srv_rate', 'count', 'service', 'src_bytes', 'dst_bytes', 'flag'}\n"
          ]
        }
      ]
    },
    {
      "cell_type": "markdown",
      "source": [
        "Wrapper Methods for features selection"
      ],
      "metadata": {
        "id": "EGvR0NuKnAXJ"
      }
    },
    {
      "cell_type": "code",
      "source": [],
      "metadata": {
        "id": "aob9aO9VjQRj"
      },
      "execution_count": 8,
      "outputs": []
    }
  ]
}